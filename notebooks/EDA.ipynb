{
 "cells": [
  {
   "cell_type": "markdown",
   "id": "2a436a4a-e99f-4dbb-8e1c-2a8b0e59eacf",
   "metadata": {},
   "source": [
    "# **Разведывательный анализ данных**"
   ]
  },
  {
   "cell_type": "markdown",
   "id": "25bff455-eb5d-4d88-850f-0d6bd76be7c6",
   "metadata": {},
   "source": [
    "Перед тем как строить модель для кредитного скоринга, нам нужно провести разведывательный анализ данных, чтобы узнать больше о данных содержащихся в датасете.\n",
    "\n",
    "Выделим несколько целей, которые мы бы хотели достичь в результате анализа данных:\n",
    "\n",
    "1. Узнать о смысле признаков для нашей модели, посмотреть на их распределение, попопробовать на начальном этапе откинуть несколько заведамо неинформативных признаков, выделить целевую переменную;\n",
    "2. Посмотреть, есть ли пропуски в нашем датасете, если же есть, то проанализировать стоит ли выкидывать объекты с пропусками, или заменить их какими-либо точечными статистиками (mean, median и т.д.);\n",
    "3. Преобразовать признаки, если требуется их преобразовать;\n",
    "4. Предложить варианты решения исходной задачи, построить baseline модели машинного обучения, выделить ключевые метрики для оптимизации модели. \n"
   ]
  },
  {
   "cell_type": "code",
   "execution_count": 1,
   "id": "0b62d163-e1c8-44c6-b3b8-7ac785692942",
   "metadata": {},
   "outputs": [],
   "source": [
    "#Подключим библиотеки\n",
    "import numpy as np\n",
    "import pandas as pd\n",
    "import matplotlib.pyplot as plt\n",
    "import seaborn as sns\n",
    "%matplotlib inline\n",
    "\n",
    "plt.style.use(\"seaborn-v0_8\")"
   ]
  },
  {
   "cell_type": "code",
   "execution_count": 2,
   "id": "c217169c-8cdb-4974-8449-3cba4ed84097",
   "metadata": {},
   "outputs": [
    {
     "name": "stderr",
     "output_type": "stream",
     "text": [
      "/tmp/ipykernel_77842/3386353930.py:1: DtypeWarning: Columns (26) have mixed types. Specify dtype option on import or set low_memory=False.\n",
      "  credit_score_df = pd.read_csv(\"~/Documents/datasets/train.csv\")\n"
     ]
    },
    {
     "data": {
      "text/plain": [
       "'ID Customer_ID Month Name Age SSN Occupation Annual_Income Monthly_Inhand_Salary Num_Bank_Accounts Num_Credit_Card Interest_Rate Num_of_Loan Type_of_Loan Delay_from_due_date Num_of_Delayed_Payment Changed_Credit_Limit Num_Credit_Inquiries Credit_Mix Outstanding_Debt Credit_Utilization_Ratio Credit_History_Age Payment_of_Min_Amount Total_EMI_per_month Amount_invested_monthly Payment_Behaviour Monthly_Balance Credit_Score'"
      ]
     },
     "execution_count": 2,
     "metadata": {},
     "output_type": "execute_result"
    }
   ],
   "source": [
    "credit_score_df = pd.read_csv(\"~/Documents/datasets/train.csv\")\n",
    "\n",
    "' '.join(credit_score_df.columns)"
   ]
  },
  {
   "cell_type": "markdown",
   "id": "db7c7d16-0001-4a78-882d-d04564a8e037",
   "metadata": {},
   "source": [
    "В датасете есть проблема с 27 столбцом, некоторые данные в столбце некорректны, большинство значений в столбце - это числа в формате `float`, проверим какие значения не преобразуется в `float` и удалим строки с данными значениями."
   ]
  },
  {
   "cell_type": "code",
   "execution_count": 5,
   "id": "d9d29e7e-a76e-427f-a3b2-134d2fb2584e",
   "metadata": {},
   "outputs": [
    {
     "name": "stdout",
     "output_type": "stream",
     "text": [
      "Value incorrect at index 5545 and value __-333333333333333333333333333__\n",
      "Value incorrect at index 26177 and value __-333333333333333333333333333__\n",
      "Value incorrect at index 29158 and value __-333333333333333333333333333__\n",
      "Value incorrect at index 35570 and value __-333333333333333333333333333__\n",
      "Value incorrect at index 38622 and value __-333333333333333333333333333__\n",
      "Value incorrect at index 60009 and value __-333333333333333333333333333__\n",
      "Value incorrect at index 75251 and value __-333333333333333333333333333__\n",
      "Value incorrect at index 82918 and value __-333333333333333333333333333__\n",
      "Value incorrect at index 83255 and value __-333333333333333333333333333__\n",
      "Bad indexes deleted.\n"
     ]
    }
   ],
   "source": [
    "#Функция для проверки на преобразуемость в float\n",
    "def is_convertible_to_float(value):\n",
    "    try:\n",
    "        float(value)\n",
    "        return True\n",
    "    except (ValueError, TypeError):\n",
    "        return False\n",
    "\n",
    "bad_indexes = []\n",
    "\n",
    "for index in range(len(credit_score_df[\"Monthly_Balance\"])):\n",
    "    val = credit_score_df[\"Monthly_Balance\"][index]\n",
    "    if not is_convertible_to_float(val):\n",
    "        print(f'Value incorrect at index {index} and value {val}')\n",
    "        bad_indexes.append(index)\n",
    "\n",
    "credit_score_df.drop(index=bad_indexes, inplace = True)\n",
    "\n",
    "print(\"Bad indexes deleted.\")"
   ]
  },
  {
   "cell_type": "code",
   "execution_count": 7,
   "id": "cfdab7df-5200-4421-81ad-b12f85ebb5f2",
   "metadata": {},
   "outputs": [],
   "source": [
    "#Заменим все значения на преобразованные в float\n",
    "credit_score_df[\"Monthly_Balance\"] = credit_score_df[\"Monthly_Balance\"].astype(float)"
   ]
  },
  {
   "attachments": {},
   "cell_type": "markdown",
   "id": "9272cf8d-cd11-4ace-a65b-ba0ebd356208",
   "metadata": {},
   "source": [
    "Для начала нам нужно исследовать наш датасет [Credit score classification](https://www.kaggle.com/datasets/parisrohan/credit-score-classification), данный датасет взят с платформы Kaggle, датасет используется для задачи классификации кредитной истории (плохая, стандартная, хорошая), то есть для задачи кредитного скоринга, в задаче мы будем классифицировать только то плохая ли история у кредитора или же нет, то есть `Бинарную классификацию`.\n",
    "\n",
    "Датасет содержит 28 признаков, приведём описание всех призаков содержащихся в датасете:\n",
    "\n",
    "- `ID` - Уникальный идентификатор записи;\n",
    "- `Customer_ID`- Уникальный идентификатор человека;\n",
    "- `Month` - Месяц года в котором была сделана запись;\n",
    "- `Name` - Имя человека;\n",
    "- `Age` - Возраст человека;\n",
    "- `SSN` - Номер социального страхования человека;\n",
    "- `Occupation` - Род занятий человека;\n",
    "- `Annual_Income` - Годовой доход лица;\n",
    "- `Monthly_Inhand_Salary` - Месячная базовая зарплата человека;\n",
    "- `Num_Bank_Accounts` - Количество банковских счетов, которыми владеет человек;\n",
    "- `Num_Credit_Card` - Количество других кредитных карт, имеющихся у человека;\n",
    "- `Interest_Rate` - Процентная ставка по кредитной карте;\n",
    "- `Num_of_Loan` - Количество кредитов, взятых в банке;\n",
    "- `Type_of_Loan` - Виды кредитов, которые берет человек;\n",
    "- `Delay_from_due_date` - Среднее количество дней задержки с даты платежа;\n",
    "- `Num_of_Delayed_Payment` - Среднее количество платежей, задержанных человеком;\n",
    "- `Changed_Credit_Limit` - Процентное изменение лимита по кредитной карте;\n",
    "- `Num_Credit_Inquiries` - Количество запросов по кредитным картам;\n",
    "- `Credit_Mix` - Классификация сочетания кредитов;\n",
    "- `Outstanding_Debt` - Оставшаяся задолженность к выплате (в долларах США);\n",
    "- `Credit_Utilization_Ratio` - Коэффициент использования кредитной карты;\n",
    "- `Credit_History_Age` - Возраст кредитной истории человека;\n",
    "- `Payment_of_Min_Amount` - Отражает, была ли уплачена человеком только минимальная сумма;\n",
    "- `Total_EMI_per_month` - Ежемесячные платежи EMI (в долларах США);\n",
    "- `Amount_invested_monthly` - Ежемесячная сумма, инвестированная клиентом (в USD);\n",
    "- `Payment_Behaviour` - Платежное поведение клиента (в USD);\n",
    "- `Monthly_Balance` - Cумма ежемесячного баланса клиента (в USD);\n",
    "- `Credit_Score` - Целевая переменная, категория кредитного рейтинга (Poor, Standard, Good)."
   ]
  },
  {
   "cell_type": "markdown",
   "id": "a04bebed-1203-4e75-b0f5-bd3db3343ff2",
   "metadata": {},
   "source": [
    "Некоторые признаки в нашей выборке являются заведамо неприменимы с точки зрения модели машинного обучения, эти признаки - имена или какие либо идентификаторы: `ID`, `Customer_ID`, `Name`, `SSN`, удалим их. Также удалим признак который сложно анализировать, а именно `Type_of_Loan`, так как он содержит текстовые данные, для анализа данного признака нужна модель глубокого обучения для векторизации текстов, в силу ограниченности вычислительных ресурсов данный признак мы не будем исследовать."
   ]
  },
  {
   "cell_type": "code",
   "execution_count": 9,
   "id": "5ffd9be8-26b9-4302-a1b0-1db010b9d296",
   "metadata": {},
   "outputs": [],
   "source": [
    "#Удалим некачественные или сложные признаки\n",
    "credit_score_df.drop(columns=['ID', 'Customer_ID', 'Name', 'SSN', 'Type_of_Loan'], inplace = True)"
   ]
  },
  {
   "cell_type": "markdown",
   "id": "bc2365a1-233d-4691-85e3-51ac72199e30",
   "metadata": {},
   "source": [
    "Теперь для оставшихся признаков получим информацию об их типах данных."
   ]
  },
  {
   "cell_type": "code",
   "execution_count": 11,
   "id": "a26bc775-326f-487f-a44e-0965b3d81e8a",
   "metadata": {},
   "outputs": [
    {
     "name": "stdout",
     "output_type": "stream",
     "text": [
      "<class 'pandas.core.frame.DataFrame'>\n",
      "Index: 99991 entries, 0 to 99999\n",
      "Data columns (total 23 columns):\n",
      " #   Column                    Non-Null Count  Dtype  \n",
      "---  ------                    --------------  -----  \n",
      " 0   Month                     99991 non-null  object \n",
      " 1   Age                       99991 non-null  object \n",
      " 2   Occupation                99991 non-null  object \n",
      " 3   Annual_Income             99991 non-null  object \n",
      " 4   Monthly_Inhand_Salary     84990 non-null  float64\n",
      " 5   Num_Bank_Accounts         99991 non-null  int64  \n",
      " 6   Num_Credit_Card           99991 non-null  int64  \n",
      " 7   Interest_Rate             99991 non-null  int64  \n",
      " 8   Num_of_Loan               99991 non-null  object \n",
      " 9   Delay_from_due_date       99991 non-null  int64  \n",
      " 10  Num_of_Delayed_Payment    92989 non-null  object \n",
      " 11  Changed_Credit_Limit      99991 non-null  object \n",
      " 12  Num_Credit_Inquiries      98026 non-null  float64\n",
      " 13  Credit_Mix                99991 non-null  object \n",
      " 14  Outstanding_Debt          99991 non-null  object \n",
      " 15  Credit_Utilization_Ratio  99991 non-null  float64\n",
      " 16  Credit_History_Age        90962 non-null  object \n",
      " 17  Payment_of_Min_Amount     99991 non-null  object \n",
      " 18  Total_EMI_per_month       99991 non-null  float64\n",
      " 19  Amount_invested_monthly   95513 non-null  object \n",
      " 20  Payment_Behaviour         99991 non-null  object \n",
      " 21  Monthly_Balance           98791 non-null  float64\n",
      " 22  Credit_Score              99991 non-null  object \n",
      "dtypes: float64(5), int64(4), object(14)\n",
      "memory usage: 18.3+ MB\n"
     ]
    }
   ],
   "source": [
    "credit_score_df.info()"
   ]
  },
  {
   "cell_type": "markdown",
   "id": "b759ce4b-cf55-4391-a25a-4dd5b965c19f",
   "metadata": {},
   "source": [
    "Как мы видим много признаков имеют тип данных `object`, хотя по смыслу они не должные являтся таковыми, внимательно посмотрим на все признаки которые являются категориальными и исправим их, если изначально они были числовыми, будем считать что если категориальный признак имеет имеет более 25 различных категорий - то этот признак должен являться числовым и по ошибке был преобразован в категориальный."
   ]
  },
  {
   "cell_type": "code",
   "execution_count": 13,
   "id": "45723c47-0213-4e8d-a67b-797d527d6e2d",
   "metadata": {},
   "outputs": [
    {
     "name": "stdout",
     "output_type": "stream",
     "text": [
      "Feature Age have 1788 categories\n",
      "Feature Annual_Income have 18939 categories\n",
      "Feature Num_of_Loan have 434 categories\n",
      "Feature Num_of_Delayed_Payment have 750 categories\n",
      "Feature Changed_Credit_Limit have 4384 categories\n",
      "Feature Outstanding_Debt have 13178 categories\n",
      "Feature Credit_History_Age have 405 categories\n",
      "Feature Amount_invested_monthly have 91042 categories\n",
      "\n",
      "We need to fix this features: Age, Annual_Income, Num_of_Loan, Num_of_Delayed_Payment, Changed_Credit_Limit, Outstanding_Debt, Credit_History_Age, Amount_invested_monthly\n"
     ]
    }
   ],
   "source": [
    "cat_features = credit_score_df.columns[(credit_score_df.dtypes == \"object\")]\n",
    "\n",
    "bad_features = []\n",
    "\n",
    "for feature in cat_features:\n",
    "    cat_count = len(credit_score_df[feature].unique())\n",
    "    if cat_count > 25:\n",
    "        print(f'Feature {feature} have {cat_count} categories')\n",
    "        bad_features.append(feature)\n",
    "\n",
    "print(f\"\\nWe need to fix this features: {\", \".join(bad_features)}\")"
   ]
  },
  {
   "cell_type": "markdown",
   "id": "b4285a84-7afe-4286-b1c4-0eb26137dd46",
   "metadata": {},
   "source": [
    "Проверим вручную и преобразуем все строки с некорректными данными."
   ]
  },
  {
   "cell_type": "raw",
   "id": "69b3bc1c-bfba-4ed3-85d0-727b9ef46933",
   "metadata": {},
   "source": [
    "for index in range(len(credit_score_df[#YOUR FEATURE]))[#NUM OF VALUES]:\n",
    "    val = credit_score_df.iloc[index][#YOUR FEATURE]\n",
    "    if not is_convertible_to_float(val):\n",
    "        print(f'Value incorrect at index {index} and value {val} with feature {#YOUR FEATURE}')\n",
    "        bad_indexes.append(index)"
   ]
  },
  {
   "cell_type": "markdown",
   "id": "f05d72dd-64b4-4b9d-888d-4d5f80af252d",
   "metadata": {},
   "source": [
    "Как мы видим все некорректные данные в столбце `Age`, `Annual_Income`, `Num_of_Loan`, `Num_of_Delayed_Payment`, `Outstanding_Debt` имеют `_` на конце. В столбце `Changed_Credit_Limit` нужно заменить `_` на значение по смыслу, `Credit_History_Age` нужно перевести из формата времени в числа, а у `mount_invested_monthly` убрать лишние символы. Преобразуем все некорректные данные."
   ]
  },
  {
   "cell_type": "code",
   "execution_count": 32,
   "id": "6b6bc1a5-3f65-42be-846f-a510adc59f99",
   "metadata": {},
   "outputs": [],
   "source": [
    "import re\n",
    "\n",
    "@np.vectorize\n",
    "def get_good_val(value, _type):\n",
    "    type_map = {\n",
    "        'int': int,\n",
    "        'float': float,\n",
    "    }\n",
    "    if not is_convertible_to_float(value):\n",
    "        to_return = value[:-1]\n",
    "    else:\n",
    "        to_return = value\n",
    "\n",
    "    return type_map[_type](to_return)\n",
    "\n",
    "@np.vectorize\n",
    "def parse_age_to_months(age_str):\n",
    "    if is_convertible_to_float(age_str):\n",
    "        return age_str\n",
    "    \n",
    "    # Используем регулярное выражение для извлечения чисел\n",
    "    match = re.match(r'(\\d+)\\s+Years?\\s+and\\s+(\\d+)\\s+Months?', age_str)\n",
    "    if match:\n",
    "        years = int(match.group(1))\n",
    "        months = int(match.group(2))\n",
    "        # Преобразуем годы в месяцы и складываем\n",
    "        total_months = years * 12 + months\n",
    "        return total_months\n",
    "    else:\n",
    "        raise ValueError(\"Input string is not in the expected format.\")\n",
    "    \n",
    "#Первый тип плохих строк\n",
    "credit_score_df['Age'] = get_good_val(credit_score_df['Age'], 'int')\n",
    "credit_score_df['Annual_Income'] = get_good_val(credit_score_df['Annual_Income'], 'float')\n",
    "credit_score_df['Num_of_Loan'] = get_good_val(credit_score_df['Num_of_Loan'], 'int')\n",
    "credit_score_df['Num_of_Delayed_Payment'] = get_good_val(credit_score_df['Num_of_Delayed_Payment'], 'float')\n",
    "credit_score_df['Outstanding_Debt'] = get_good_val(credit_score_df['Outstanding_Debt'], 'float')\n",
    "#Второй тип \n",
    "credit_score_df.loc[credit_score_df['Changed_Credit_Limit'] == '_', 'Changed_Credit_Limit'] = 0\n",
    "credit_score_df['Changed_Credit_Limit'] = credit_score_df['Changed_Credit_Limit'].astype(float)\n",
    "#Третий тип\n",
    "correct_values =  parse_age_to_months(credit_score_df.loc[~credit_score_df['Credit_History_Age'].isna(), 'Credit_History_Age'] )\n",
    "credit_score_df.loc[~credit_score_df['Credit_History_Age'].isna(), 'Credit_History_Age'] = correct_values\n",
    "credit_score_df['Credit_History_Age'] = credit_score_df['Credit_History_Age'].astype(float)\n",
    "#Четвертый тип \n",
    "credit_score_df['Amount_invested_monthly'] = credit_score_df['Amount_invested_monthly'].replace('_', '', regex=True).astype(float)"
   ]
  },
  {
   "cell_type": "markdown",
   "id": "4bfb00a2-7f36-46dc-895d-e9d8e579f17e",
   "metadata": {},
   "source": [
    "Мы удалили все плохие категориальные признаки, теперь запустим ещё раз код для проверки наличия таких признаков."
   ]
  },
  {
   "cell_type": "code",
   "execution_count": 44,
   "id": "53c20c10-347d-4ba4-bfd5-042c98675e8f",
   "metadata": {},
   "outputs": [
    {
     "name": "stdout",
     "output_type": "stream",
     "text": [
      "\n",
      "We need to fix this features: None\n"
     ]
    }
   ],
   "source": [
    "cat_features = credit_score_df.columns[(credit_score_df.dtypes == \"object\")]\n",
    "\n",
    "bad_features = []\n",
    "\n",
    "for feature in cat_features:\n",
    "    cat_count = len(credit_score_df[feature].unique())\n",
    "    if cat_count > 25:\n",
    "        print(f'Feature {feature} have {cat_count} categories')\n",
    "        bad_features.append(feature)\n",
    "\n",
    "print(f\"\\nWe need to fix this features: {\", \".join(bad_features) if len(bad_features) > 0 else None}\")"
   ]
  },
  {
   "cell_type": "markdown",
   "id": "4dc5d066-4195-4ba5-aa92-4b06b6d29deb",
   "metadata": {},
   "source": [
    "Отлично, теперь все проблемы с категориальными переменными исправлены. Теперь можно посчитать их количество."
   ]
  },
  {
   "cell_type": "code",
   "execution_count": 55,
   "id": "75c80325-6103-411d-bf45-3d83bdac21c1",
   "metadata": {},
   "outputs": [
    {
     "name": "stdout",
     "output_type": "stream",
     "text": [
      "Count of categorical features is 6\n"
     ]
    }
   ],
   "source": [
    "print(f\"Count of categorical features is {np.sum(credit_score_df.dtypes == 'object')}\") "
   ]
  },
  {
   "cell_type": "markdown",
   "id": "376b1347-a416-427e-9553-cb1037de853c",
   "metadata": {},
   "source": [
    "Теперь построим `pairplot` для каждой пары признаков типа `float`, чтобы визуально посмотреть как взаимодействуют друг с другом признаки. Но для начала закодируем целевую переменную как 0 - если значение `Poor` и 1 если значение `Standard` или `Good`."
   ]
  },
  {
   "cell_type": "code",
   "execution_count": null,
   "id": "23ff877c-a657-4547-9df4-fec35c950c98",
   "metadata": {},
   "outputs": [],
   "source": []
  },
  {
   "cell_type": "code",
   "execution_count": null,
   "id": "7ee93564-d89d-4d01-bd97-649ec91dadf3",
   "metadata": {},
   "outputs": [],
   "source": [
    "num_features = credit_score_df.columns[credit_score_df.dtypes != \"object\"]\n",
    "\n",
    "cs_df_sub = credit_score_df[num_features]\n",
    "\n",
    "sns.pairplot(cs_df_sub, hue = \"TARGET\")"
   ]
  },
  {
   "cell_type": "code",
   "execution_count": null,
   "id": "5631bfd4-faee-443f-b1be-0ebf6d903319",
   "metadata": {},
   "outputs": [],
   "source": [
    "plt.show()"
   ]
  },
  {
   "cell_type": "markdown",
   "id": "c643c0f1-c337-4a60-b074-98acbc521217",
   "metadata": {},
   "source": [
    "Посмотрим соотношения классов целевой переменной."
   ]
  },
  {
   "cell_type": "code",
   "execution_count": null,
   "id": "86c3d156-fcac-489c-893f-bbcedfde7bfb",
   "metadata": {},
   "outputs": [],
   "source": [
    "from collections import Counter\n",
    "\n",
    "classes = Counter(credit_score_df[\"TARGET\"])\n",
    "\n",
    "plt.bar(classes.keys(),classes.values(), edgecolor='black', alpha=0.7)\n",
    "\n",
    "plt.title(\"Соотношение классов целевой переменной\")\n",
    "\n",
    "plt.xlabel(\"Классы\")\n",
    "plt.ylabel(\"Количество\")\n",
    "\n",
    "plt.show()"
   ]
  },
  {
   "cell_type": "markdown",
   "id": "38aa6e31-2b54-4fbe-850d-ddc8dad2def0",
   "metadata": {},
   "source": [
    "На графике виден явный дисбаланс классов. Поэтому при решении задачи нет смысла использовать метрику `accuracy`, значит нужно пытаться смотреть на разделение классов, будем максимизировать метрику `AUC ROC`. "
   ]
  },
  {
   "cell_type": "markdown",
   "id": "c1a6eb90-d5e2-401c-931f-cc4e4679ed2b",
   "metadata": {},
   "source": [
    "Попробуем найти закономерности в категориальных данных, которые качественно отражаются на значении целевой переменной."
   ]
  },
  {
   "cell_type": "code",
   "execution_count": null,
   "id": "f4caf239-74a1-4f50-9a84-f511a59259c2",
   "metadata": {},
   "outputs": [],
   "source": [
    "pd.crosstab(credit_score_df[\"CODE_GENDER\"], credit_score_df[\"TARGET\"], margins=True).style.background_gradient(cmap='winter')"
   ]
  },
  {
   "cell_type": "markdown",
   "id": "154c2df6-beb5-43c7-8bad-62003c2a52c5",
   "metadata": {},
   "source": [
    "Оценим значимость пола на целевую переменную. В кросс таблице видно, что женщин-кредиторов в 2 раза больше, чем мужчин, при этом соотношение людей которые не выплатили кредит сохраняется."
   ]
  },
  {
   "cell_type": "code",
   "execution_count": null,
   "id": "c1e26282-17ba-418a-b519-3e71d041b0ba",
   "metadata": {},
   "outputs": [],
   "source": [
    "for column in credit_score_df.columns[credit_score_df.dtypes == \"object\"]:\n",
    "    sns.catplot(x = column, col = 'TARGET', kind = 'count', data = credit_score_df, stat='percent', aspect=1.5, sharey=False, edgecolor='black', alpha=0.7)\n",
    "    plt.show()"
   ]
  },
  {
   "cell_type": "markdown",
   "id": "9f2f60e3-79af-4333-9c3c-57a1f8182e7c",
   "metadata": {},
   "source": [
    "Нет больших различий в графиках для разных классов целевой переменной.\n",
    "\n",
    "Посмотрим на статистику признаков в датасете."
   ]
  },
  {
   "cell_type": "code",
   "execution_count": null,
   "id": "c80aaa1c-a016-4152-bf57-f5c55b180456",
   "metadata": {},
   "outputs": [],
   "source": [
    "credit_score_df.describe()"
   ]
  },
  {
   "cell_type": "markdown",
   "id": "763f4031-b69e-4476-a5e3-39ac53715d03",
   "metadata": {},
   "source": [
    "Построим таблицу парных корелляций для всех признаков."
   ]
  },
  {
   "cell_type": "code",
   "execution_count": null,
   "id": "d2123197-be43-4a87-bfe6-3c0c2a04682f",
   "metadata": {},
   "outputs": [],
   "source": [
    "plt.figure(figsize = (15, 15))\n",
    "\n",
    "sns.heatmap(credit_score_df.select_dtypes(include=['float64', 'int64']).corr(), cmap=\"winter\", annot=True, fmt=\"0.2f\")\n",
    "\n",
    "plt.show()"
   ]
  },
  {
   "cell_type": "markdown",
   "id": "4127a5a1-5f6f-4ef8-9e8f-33b86512db45",
   "metadata": {},
   "source": [
    "Стоит избавиться от признаков имеющих слишком большую корреляцию с другими например `FLAG_EMP_PHONE`."
   ]
  },
  {
   "cell_type": "markdown",
   "id": "b986e8d8-8bb6-4aa2-806e-17fc42aab75a",
   "metadata": {},
   "source": [
    "Исследуем датасет с помощью `ProfileReport` из библиотеки `pandas_profiling`."
   ]
  },
  {
   "cell_type": "code",
   "execution_count": null,
   "id": "8978e379-6214-4150-9556-865868b3ea6e",
   "metadata": {},
   "outputs": [],
   "source": [
    "from ydata_profiling import ProfileReport\n",
    "\n",
    "profile = ProfileReport(credit_score_df, title=\"Отчет о профилировании данных\", explorative=True)\n",
    "\n",
    "profile.to_notebook_iframe()"
   ]
  },
  {
   "cell_type": "markdown",
   "id": "2f1ce8e7-495f-4b15-b53c-97f8261051ef",
   "metadata": {},
   "source": [
    "Исходя из `ProfileReport` стоит удалить 12 повторяющихся строк, также нужно преобразовать признаки `OWN_CAR_AGE`, `OCCUPATION_TYPE`, `AMT_INCOME_TOTAL`. Также удалим признак `FLAG_MOBIL`- признак почти константный."
   ]
  },
  {
   "cell_type": "markdown",
   "id": "98dfe13e-8051-4fdf-9ec3-88e94937545a",
   "metadata": {},
   "source": [
    "В качестве `baseline` модели для решения задачи классификации мы используем `Logistic regression`. После чего попробуем использовать `KNN`, `Random forest`, `GBM` из библиотеки `xgboost`. Подберем гипперпараметры для данных моделей. Также сделаем отбор признаков в датасете, посмотрим как улучшится качество. Также можно выделить признаки с помощью `PCA`."
   ]
  }
 ],
 "metadata": {
  "kernelspec": {
   "display_name": "Python [conda env:base] *",
   "language": "python",
   "name": "conda-base-py"
  },
  "language_info": {
   "codemirror_mode": {
    "name": "ipython",
    "version": 3
   },
   "file_extension": ".py",
   "mimetype": "text/x-python",
   "name": "python",
   "nbconvert_exporter": "python",
   "pygments_lexer": "ipython3",
   "version": "3.12.7"
  }
 },
 "nbformat": 4,
 "nbformat_minor": 5
}
